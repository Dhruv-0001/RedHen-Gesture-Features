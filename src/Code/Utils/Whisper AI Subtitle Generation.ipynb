{
  "cells": [
    {
      "cell_type": "code",
      "execution_count": null,
      "metadata": {
        "colab": {
          "base_uri": "https://localhost:8080/"
        },
        "id": "J8wx66PfU68N",
        "outputId": "ebdfb2f5-800c-4049-d8c3-3f40254fabd1"
      },
      "outputs": [],
      "source": [
        "!nvidia-smi\n"
      ]
    },
    {
      "cell_type": "code",
      "execution_count": null,
      "metadata": {
        "colab": {
          "base_uri": "https://localhost:8080/",
          "height": 1000
        },
        "id": "8yKDsfLiU-4b",
        "outputId": "7987e4e4-889c-4a30-bf6b-b051f19c5795"
      },
      "outputs": [],
      "source": [
        "! pip install git+https://github.com/m-bain/whisperx.git"
      ]
    },
    {
      "cell_type": "code",
      "execution_count": null,
      "metadata": {
        "colab": {
          "base_uri": "https://localhost:8080/"
        },
        "id": "yRu6Qo0CVOVB",
        "outputId": "e04dfce1-04b9-4298-91ac-034728d07e17"
      },
      "outputs": [],
      "source": [
        "! pip install git+https://github.com/openai/whisper.git\n"
      ]
    },
    {
      "cell_type": "code",
      "execution_count": null,
      "metadata": {
        "colab": {
          "base_uri": "https://localhost:8080/",
          "height": 73
        },
        "id": "7hFMBIviV8si",
        "outputId": "08b05be7-1820-493f-a59d-4478f2b08dd9"
      },
      "outputs": [],
      "source": [
        "from google.colab import files\n",
        "uploaded = files.upload()"
      ]
    },
    {
      "cell_type": "code",
      "execution_count": null,
      "metadata": {
        "colab": {
          "base_uri": "https://localhost:8080/"
        },
        "id": "2xSM_Ns_X_V-",
        "outputId": "85f61de1-e5ec-4764-ad1d-bd40d1833af1"
      },
      "outputs": [],
      "source": [
        "!whisperx output_audio.mp3 --model medium.en --output_dir . --align_model WAV2VEC2_ASR_LARGE_LV60K_960H --highlight_words True"
      ]
    },
    {
      "cell_type": "code",
      "execution_count": null,
      "metadata": {
        "colab": {
          "base_uri": "https://localhost:8080/"
        },
        "id": "Syka7DUVc723",
        "outputId": "f379251f-5d74-417a-a888-829d3f6dd0a4"
      },
      "outputs": [],
      "source": [
        "!ffmpeg -i Bethenny_Frankel_01.mp4 -vf \"ass=output_ass.ass\" new_video_out.avi"
      ]
    }
  ],
  "metadata": {
    "accelerator": "GPU",
    "colab": {
      "gpuType": "T4",
      "provenance": []
    },
    "kernelspec": {
      "display_name": "Python 3",
      "name": "python3"
    },
    "language_info": {
      "name": "python"
    }
  },
  "nbformat": 4,
  "nbformat_minor": 0
}
